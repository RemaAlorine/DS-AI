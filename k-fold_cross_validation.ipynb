{
 "cells": [
  {
   "cell_type": "markdown",
   "metadata": {},
   "source": [
    "### K-Fold Cross Validation\n",
    "#### K-fold cross-validation is a technique used in machine learning to evaluate the performance of a model. It helps ensure that the model generalizes well to unseen data and doesn't overfit to the training set."
   ]
  },
  {
   "cell_type": "code",
   "execution_count": 1,
   "metadata": {},
   "outputs": [],
   "source": [
    "import pandas as pd\n",
    "from sklearn.model_selection import train_test_split\n",
    "from sklearn.linear_model import LogisticRegression\n",
    "from sklearn.metrics import accuracy_score"
   ]
  },
  {
   "cell_type": "code",
   "execution_count": 3,
   "metadata": {},
   "outputs": [
    {
     "name": "stdout",
     "output_type": "stream",
     "text": [
      "Accuracy without K-Fold Cross-Validation: 0.79\n"
     ]
    }
   ],
   "source": [
    "\n",
    "\n",
    "# Load your dataset\n",
    "data = pd.read_csv(\"D:/Associate - Junior DS Assessment/Junior (A - L2) Data Science/Data/final_ds_nlp/modified_final_file.csv\")\n",
    "data=data.dropna(subset=['raw_rating','sentiment2'])\n",
    "# Select features and labels (For simplicity, let's assume 'raw_rating' is the feature and 'Sentiment' is the label)\n",
    "X = data[['raw_rating']]  # Features\n",
    "y = data['Sentiment']  # Target labels\n",
    "\n",
    "# Split the data into training and testing sets\n",
    "X_train, X_test, y_train, y_test = train_test_split(X, y, test_size=0.2, random_state=42)\n",
    "\n",
    "# Train a simple Logistic Regression model\n",
    "model = LogisticRegression()\n",
    "model.fit(X_train, y_train)\n",
    "\n",
    "# Make predictions on the test set\n",
    "y_pred = model.predict(X_test)\n",
    "\n",
    "# Calculate accuracy\n",
    "accuracy = accuracy_score(y_test, y_pred)\n",
    "print(f\"Accuracy without K-Fold Cross-Validation: {accuracy:.2f}\")\n"
   ]
  },
  {
   "cell_type": "code",
   "execution_count": 12,
   "metadata": {},
   "outputs": [
    {
     "name": "stdout",
     "output_type": "stream",
     "text": [
      "Accuracy for each fold: [0.79414032 0.78026214 0.79182729 0.77949113 0.79336931 0.79182729\n",
      " 0.76869699 0.7925983  0.78874325 0.79243827]\n",
      "Mean accuracy with K-Fold Cross-Validation: 0.79\n"
     ]
    }
   ],
   "source": [
    "from sklearn.model_selection import cross_val_score\n",
    "\n",
    "# Apply K-Fold Cross-Validation with 5 folds\n",
    "k_fold_accuracy = cross_val_score(model, X, y, cv=10, scoring='accuracy')\n",
    "\n",
    "# Print the accuracy for each fold\n",
    "print(f\"Accuracy for each fold: {k_fold_accuracy}\")\n",
    "\n",
    "# Calculate the mean accuracy across all folds\n",
    "mean_accuracy = k_fold_accuracy.mean()\n",
    "print(f\"Mean accuracy with K-Fold Cross-Validation: {mean_accuracy:.2f}\")\n"
   ]
  },
  {
   "cell_type": "markdown",
   "metadata": {},
   "source": [
    "### Why Accuracy May Not Improve\n",
    "\n",
    "- **Model Stability:** If your model is already stable and the dataset is representative, you might see similar accuracy scores across different splits. This means your model is consistent, but it doesn't necessarily improve accuracy.\n",
    "\n",
    "- **Data Size:** If you have a smaller dataset, the test set in K-Fold Cross-Validation might contain more difficult samples, which could lower accuracy slightly.\n",
    "\n",
    "- **Overfitting:** If your model was overfitting on the initial train-test split, K-Fold Cross-Validation would reveal that by showing a lower average accuracy across the folds.\n",
    "\n",
    "### What to Focus On\n",
    "\n",
    "- **Consistency:** Check if the accuracy across different folds is consistent. Consistent accuracy indicates a stable model that generalizes well.\n",
    "\n",
    "- **Bias-Variance Tradeoff:** K-Fold Cross-Validation helps you understand if your model has high variance (performing well on some folds but poorly on others) or high bias (underperforming across all folds).\n"
   ]
  }
 ],
 "metadata": {
  "kernelspec": {
   "display_name": "Python 3",
   "language": "python",
   "name": "python3"
  },
  "language_info": {
   "codemirror_mode": {
    "name": "ipython",
    "version": 3
   },
   "file_extension": ".py",
   "mimetype": "text/x-python",
   "name": "python",
   "nbconvert_exporter": "python",
   "pygments_lexer": "ipython3",
   "version": "3.12.4"
  }
 },
 "nbformat": 4,
 "nbformat_minor": 2
}
