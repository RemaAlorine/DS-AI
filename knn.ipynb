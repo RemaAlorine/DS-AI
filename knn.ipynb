{
 "cells": [
  {
   "cell_type": "markdown",
   "metadata": {},
   "source": [
    "## KNN"
   ]
  },
  {
   "cell_type": "markdown",
   "metadata": {},
   "source": [
    "### K-Nearest Neighbors (KNN) is a simple, intuitive machine learning algorithm used for both classification and regression tasks. The idea behind KNN is to find the \"k\" closest data points (neighbors) to a given data point and use these neighbors to make predictions."
   ]
  },
  {
   "cell_type": "code",
   "execution_count": 1,
   "metadata": {},
   "outputs": [
    {
     "name": "stdout",
     "output_type": "stream",
     "text": [
      "Top 10 recommended locations/services similar to Al Ahsa Mall by Arabian Centres:\n",
      "Al Ahsa Mall by Arabian Centres\n",
      "Panorama Mall\n",
      "PROTEL\n",
      "Park Inn by Radisson Makkah Al Naseem\n",
      "Park Inn by Radisson Dammam\n",
      "Park Hyatt Jeddah – Marina, Club And Spa\n",
      "Park Alheefah\n",
      "Papaya\n",
      "Park Inn by Radisson, Riyadh\n",
      "Orient Suites أجنحة الشرق\n"
     ]
    },
    {
     "name": "stderr",
     "output_type": "stream",
     "text": [
      "d:\\New folder (2)\\Lib\\site-packages\\sklearn\\base.py:493: UserWarning: X does not have valid feature names, but NearestNeighbors was fitted with feature names\n",
      "  warnings.warn(\n"
     ]
    }
   ],
   "source": [
    "import pandas as pd\n",
    "from sklearn.neighbors import NearestNeighbors\n",
    "\n",
    "# Load your dataset\n",
    "reviews_data = pd.read_csv(\"D:/Associate - Junior DS Assessment/Junior (A - L2) Data Science/Data/final_ds_nlp/modified_final_file.csv\")\n",
    "\n",
    "# Drop rows with missing values in critical columns\n",
    "reviews_data = reviews_data.dropna(subset=['id', 'title', 'raw_rating'])\n",
    "\n",
    "# Create a location-service matrix with ratings (using review IDs as index)\n",
    "location_services = reviews_data.pivot_table(index='id', columns='title', values='raw_rating')\n",
    "\n",
    "# Fill missing values with 0 (since not all locations/services have ratings in every review)\n",
    "location_services_filled = location_services.fillna(0)\n",
    "\n",
    "# Transpose the matrix so that locations/services are rows\n",
    "location_services_transposed = location_services_filled.T\n",
    "\n",
    "# Initialize the KNN model\n",
    "knn = NearestNeighbors(n_neighbors=10, metric='cosine')  # You can change the metric to 'euclidean' if desired\n",
    "knn.fit(location_services_transposed)\n",
    "\n",
    "# Specify a location/service of interest to make recommendations\n",
    "location_of_interest = \"Al Ahsa Mall by Arabian Centres\"  # Replace with the actual location/service of interest\n",
    "\n",
    "# Find the nearest neighbors (similar locations/services)\n",
    "distances, indices = knn.kneighbors([location_services_transposed.loc[location_of_interest]], n_neighbors=10)\n",
    "\n",
    "# Get the names of the similar locations/services\n",
    "similar_locations = location_services_transposed.index[indices.flatten()].tolist()\n",
    "\n",
    "# Display the top 10 recommended locations/services\n",
    "print(f\"Top 10 recommended locations/services similar to {location_of_interest}:\")\n",
    "for loc in similar_locations:\n",
    "    print(loc)\n"
   ]
  }
 ],
 "metadata": {
  "kernelspec": {
   "display_name": "Python 3",
   "language": "python",
   "name": "python3"
  },
  "language_info": {
   "codemirror_mode": {
    "name": "ipython",
    "version": 3
   },
   "file_extension": ".py",
   "mimetype": "text/x-python",
   "name": "python",
   "nbconvert_exporter": "python",
   "pygments_lexer": "ipython3",
   "version": "3.12.4"
  }
 },
 "nbformat": 4,
 "nbformat_minor": 2
}
