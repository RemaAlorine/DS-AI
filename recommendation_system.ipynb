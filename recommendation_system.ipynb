{
 "cells": [
  {
   "cell_type": "markdown",
   "metadata": {},
   "source": [
    "# x\n",
    "### has errors "
   ]
  },
  {
   "cell_type": "code",
   "execution_count": 11,
   "metadata": {},
   "outputs": [
    {
     "name": "stdout",
     "output_type": "stream",
     "text": [
      "Number of ratings for Al Ahsa Mall by Arabian Centres: 51\n",
      "Top 10 recommended locations/services similar to Al Ahsa Mall by Arabian Centres:\n",
      "Series([], Name: Al Ahsa Mall by Arabian Centres, dtype: float64)\n"
     ]
    }
   ],
   "source": [
    "import pandas as pd\n",
    "\n",
    "# Load your dataset\n",
    "reviews_data = pd.read_csv(\"D:/Associate - Junior DS Assessment/Junior (A - L2) Data Science/Data/final_ds_nlp/modified_final_file.csv\")\n",
    "\n",
    "# Drop rows with missing values in critical columns\n",
    "reviews_data = reviews_data.dropna(subset=['id', 'title', 'raw_rating'])\n",
    "\n",
    "# Create a location-service matrix with ratings (using review IDs as index)\n",
    "location_services = reviews_data.pivot_table(index='id', columns='title', values='raw_rating')\n",
    "\n",
    "# Compute the correlation matrix (similarity) between locations/services\n",
    "corr_matrix = location_services.corr(method='pearson', min_periods=1)\n",
    "\n",
    "# Specify a location/service of interest to make recommendations\n",
    "location_of_interest = \"Al Ahsa Mall by Arabian Centres\"  # Replace with the actual location/service of interest\n",
    "\n",
    "# Check the number of ratings for the location of interest\n",
    "location_ratings = location_services[location_of_interest].dropna()\n",
    "print(f\"Number of ratings for {location_of_interest}: {len(location_ratings)}\")\n",
    "\n",
    "# If there are sufficient ratings, get the similarity scores for this location/service\n",
    "if len(location_ratings) > 0:\n",
    "    # Get the similarity scores for this location/service\n",
    "    sim_candidates = corr_matrix[location_of_interest].dropna()\n",
    "\n",
    "    # Sort the similarity scores from highest to lowest\n",
    "    sim_candidates.sort_values(inplace=True, ascending=False)\n",
    "\n",
    "    # Remove the location of interest from the recommendations\n",
    "    filtered_sims = sim_candidates.drop(location_of_interest)\n",
    "\n",
    "    # Display the top 10 recommended locations/services\n",
    "    print(f\"Top 10 recommended locations/services similar to {location_of_interest}:\")\n",
    "    print(filtered_sims.head(10))\n",
    "else:\n",
    "    print(f\"Not enough ratings for {location_of_interest} to provide recommendations.\")\n"
   ]
  },
  {
   "cell_type": "code",
   "execution_count": 12,
   "metadata": {},
   "outputs": [
    {
     "name": "stdout",
     "output_type": "stream",
     "text": [
      "Top 10 recommended locations/services similar to Al Ahsa Mall by Arabian Centres:\n",
      "title\n",
      "12 Springs of Prophet Moses (A.S.)           0.0\n",
      "Panorama Mall                                0.0\n",
      "Park Inn by Radisson, Jeddah Madinah Road    0.0\n",
      "Park Inn by Radisson Makkah Al Naseem        0.0\n",
      "Park Inn by Radisson Dammam                  0.0\n",
      "Park Hyatt Jeddah – Marina, Club And Spa     0.0\n",
      "Park Alheefah                                0.0\n",
      "Papaya                                       0.0\n",
      "Panda Express                                0.0\n",
      "Opal Suites                                  0.0\n",
      "Name: Al Ahsa Mall by Arabian Centres, dtype: float64\n"
     ]
    }
   ],
   "source": [
    "from sklearn.metrics.pairwise import cosine_similarity\n",
    "\n",
    "# Fill missing values with 0 for cosine similarity calculation\n",
    "location_services_filled = location_services.fillna(0)\n",
    "\n",
    "# Compute cosine similarity matrix\n",
    "cosine_sim_matrix = pd.DataFrame(cosine_similarity(location_services_filled.T),\n",
    "                                 index=location_services.columns,\n",
    "                                 columns=location_services.columns)\n",
    "\n",
    "# Get the similarity scores for the location/service of interest\n",
    "sim_candidates_cosine = cosine_sim_matrix[location_of_interest].dropna()\n",
    "\n",
    "# Sort the similarity scores from highest to lowest\n",
    "sim_candidates_cosine.sort_values(inplace=True, ascending=False)\n",
    "\n",
    "# Remove the location of interest from the recommendations\n",
    "filtered_sims_cosine = sim_candidates_cosine.drop(location_of_interest)\n",
    "\n",
    "# Display the top 10 recommended locations/services\n",
    "print(f\"Top 10 recommended locations/services similar to {location_of_interest}:\")\n",
    "print(filtered_sims_cosine.head(10))\n"
   ]
  }
 ],
 "metadata": {
  "kernelspec": {
   "display_name": "Python 3",
   "language": "python",
   "name": "python3"
  },
  "language_info": {
   "codemirror_mode": {
    "name": "ipython",
    "version": 3
   },
   "file_extension": ".py",
   "mimetype": "text/x-python",
   "name": "python",
   "nbconvert_exporter": "python",
   "pygments_lexer": "ipython3",
   "version": "3.12.4"
  }
 },
 "nbformat": 4,
 "nbformat_minor": 2
}
