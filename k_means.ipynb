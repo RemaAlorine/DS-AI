{
 "cells": [
  {
   "cell_type": "markdown",
   "metadata": {},
   "source": [
    "#### K-Means Clustering\n",
    "##### K-means clustering is a popular unsupervised machine learning algorithm used to group data into distinct clusters. The goal of K-means is to partition a dataset into 𝑘  clusters, where each data point belongs to the cluster with the nearest mean. It’s widely used in scenarios like customer segmentation, image compression, and anomaly detection."
   ]
  },
  {
   "cell_type": "code",
   "execution_count": 2,
   "metadata": {},
   "outputs": [],
   "source": [
    "import pandas as pd\n",
    "from sklearn.feature_extraction.text import TfidfVectorizer\n",
    "from sklearn.cluster import KMeans\n",
    "from sklearn.preprocessing import StandardScaler"
   ]
  },
  {
   "cell_type": "code",
   "execution_count": 5,
   "metadata": {},
   "outputs": [
    {
     "name": "stdout",
     "output_type": "stream",
     "text": [
      "Cluster 0 top features: ['google', 'prominent', 'hotel', 'god', 'best', 'good', 'clean', 'amazing', 'place', 'beautiful']\n",
      "Cluster 1 top features: ['renovation', 'services', 'cleanliness', 'maintenance', 'place', 'care', 'beautiful', 'development', 'attention', 'needs']\n",
      "Cluster 2 top features: ['wonderful', 'good', 'room', 'hotel', 'excellent', 'sea', 'place', 'nice', 'beautiful', 'view']\n",
      "Cluster 3 top features: ['tidy', 'beach', 'hotel', 'amazing', 'services', 'park', 'clean', 'place', 'quiet', 'beautiful']\n",
      "Cluster 4 top features: ['clean', 'thank', 'garden', 'recommend', 'quiet', 'atmosphere', 'park', 'beautiful', 'place', 'wonderful']\n",
      "Cluster 5 top features: ['organized', 'good', 'experience', 'hotel', 'park', 'quiet', 'family', 'clean', 'place', 'nice']\n",
      "Cluster 6 top features: ['good', 'services', 'beautiful', 'prices', 'place', 'clean', 'location', 'hotel', 'service', 'excellent']\n",
      "Cluster 7 top features: ['best', 'amazing', 'clean', 'advise', 'good', 'visiting', 'beautiful', 'place', 'worth', 'visit']\n",
      "Cluster 8 top features: ['families', 'beautiful', 'services', 'atmosphere', 'excellent', 'food', 'hotel', 'location', 'place', 'great']\n",
      "Cluster 9 top features: ['walking', 'location', 'cinema', 'service', 'park', 'hotel', 'families', 'clean', 'place', 'good']\n"
     ]
    }
   ],
   "source": [
    "\n",
    "\n",
    "# Load your dataset\n",
    "reviews_data=pd.read_csv(\"D:/Associate - Junior DS Assessment/Junior (A - L2) Data Science/Data/final_ds_nlp/modified_final_file.csv\")\n",
    "# Assuming 'translated_content' is the column with review texts\n",
    "reviews_data = reviews_data.dropna(subset=['translated_content'])\n",
    "\n",
    "# Preprocess the text data\n",
    "vectorizer = TfidfVectorizer(stop_words='english')\n",
    "X = vectorizer.fit_transform(reviews_data['translated_content'])\n",
    "\n",
    "# Apply K-means clustering\n",
    "num_clusters = 10  # Choose the number of clusters\n",
    "kmeans = KMeans(n_clusters=num_clusters, random_state=42)\n",
    "kmeans.fit(X)\n",
    "\n",
    "# Assign clusters to reviews\n",
    "reviews_data['cluster'] = kmeans.labels_\n",
    "\n",
    "# Analyze the clusters\n",
    "# Print cluster centers\n",
    "feature_names = vectorizer.get_feature_names_out()\n",
    "for i in range(num_clusters):\n",
    "    cluster_center = kmeans.cluster_centers_[i]\n",
    "    top_features = [feature_names[j] for j in cluster_center.argsort()[-10:]]\n",
    "    print(f\"Cluster {i} top features: {top_features}\")\n"
   ]
  },
  {
   "cell_type": "code",
   "execution_count": 1,
   "metadata": {},
   "outputs": [
    {
     "name": "stdout",
     "output_type": "stream",
     "text": [
      "Cluster 0:\n",
      " - I loved the ambiance and the food was great!\n",
      " - A wonderful experience with delicious food and great service.\n",
      " - The restaurant had a great atmosphere and the food was okay.\n",
      "\n",
      "Cluster 1:\n",
      " - The service was excellent and the staff was very friendly.\n",
      " - The staff was rude and the place was too noisy.\n",
      "\n",
      "Cluster 2:\n",
      " - The food was terrible and the restaurant was dirty.\n",
      " - I did not like the food and the service was poor.\n",
      " - The service was slow and the food was average.\n",
      "\n"
     ]
    }
   ],
   "source": [
    "import pandas as pd\n",
    "import numpy as np\n",
    "from sklearn.feature_extraction.text import TfidfVectorizer\n",
    "from sklearn.cluster import KMeans\n",
    "import matplotlib.pyplot as plt\n",
    "\n",
    "# Sample review data\n",
    "data = {\n",
    "    'review': [\n",
    "        'The service was excellent and the staff was very friendly.',\n",
    "        'The food was terrible and the restaurant was dirty.',\n",
    "        'I loved the ambiance and the food was great!',\n",
    "        'The staff was rude and the place was too noisy.',\n",
    "        'A wonderful experience with delicious food and great service.',\n",
    "        'I did not like the food and the service was poor.',\n",
    "        'The restaurant had a great atmosphere and the food was okay.',\n",
    "        'The service was slow and the food was average.'\n",
    "    ]\n",
    "}\n",
    "\n",
    "df = pd.DataFrame(data)\n",
    "\n",
    "# Step 1: Initialize TF-IDF Vectorizer\n",
    "vectorizer = TfidfVectorizer(stop_words='english')\n",
    "X = vectorizer.fit_transform(df['review'])\n",
    "\n",
    "# Step 2: Apply K-means Clustering\n",
    "kmeans = KMeans(n_clusters=3, random_state=0)  # You can adjust the number of clusters\n",
    "kmeans.fit(X)\n",
    "\n",
    "# Step 3: Predict the clusters for each review\n",
    "df['cluster'] = kmeans.predict(X)\n",
    "\n",
    "# Step 4: Analyze the Clusters\n",
    "for cluster_num in sorted(df['cluster'].unique()):\n",
    "    print(f\"Cluster {cluster_num}:\")\n",
    "    cluster_reviews = df[df['cluster'] == cluster_num]['review']\n",
    "    for review in cluster_reviews:\n",
    "        print(f\" - {review}\")\n",
    "    print()\n",
    "\n",
    "# Optional: Plot the clusters if dimensionality reduction is done (e.g., using PCA or t-SNE)\n",
    "# Note: You need to reduce dimensions to 2D for plotting\n"
   ]
  }
 ],
 "metadata": {
  "kernelspec": {
   "display_name": "Python 3",
   "language": "python",
   "name": "python3"
  },
  "language_info": {
   "codemirror_mode": {
    "name": "ipython",
    "version": 3
   },
   "file_extension": ".py",
   "mimetype": "text/x-python",
   "name": "python",
   "nbconvert_exporter": "python",
   "pygments_lexer": "ipython3",
   "version": "3.12.4"
  }
 },
 "nbformat": 4,
 "nbformat_minor": 2
}
